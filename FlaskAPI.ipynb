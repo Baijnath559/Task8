{
 "cells": [
  {
   "cell_type": "markdown",
   "metadata": {},
   "source": [
    "# CREATED OUR OWN API USING FLASK"
   ]
  },
  {
   "cell_type": "code",
   "execution_count": 34,
   "metadata": {},
   "outputs": [],
   "source": [
    "from flask import Flask, jsonify, render_template, request"
   ]
  },
  {
   "cell_type": "code",
   "execution_count": 35,
   "metadata": {},
   "outputs": [],
   "source": [
    "app = Flask(__name__)\n",
    "\n",
    "plates = [\n",
    "    \n",
    "{ \"Number\": \"JH05AM7544\",\"Description\": \"MARUTI WAGON R VXI (K-SERIES 1.0)\", \"RegistrationYear\": \"2012\", \"CarMake\": { \"CurrentTextValue\": \"MARUTI\" }, \"CarModel\": { \"CurrentTextValue\": \"WAGON R\" }, \"Variant\": \"VXI (K-SERIES 1.0)\", \"EngineSize\": { \"CurrentTextValue\": \"998\" }, \"MakeDescription\": { \"CurrentTextValue\": \"MARUTI\" }, \"ModelDescription\": { \"CurrentTextValue\": \"WAGON R\" }, \"NumberOfSeats\": { \"CurrentTextValue\": \"5\" }, \"VechileIdentificationNumber\": \"MA3EWDE1S00381944\", \"EngineNumber\": \"K10BN1506897\", \"FuelType\": { \"CurrentTextValue\": \"Petrol\" }, \"RegistrationDate\": \"21/02/2012\", \"Owner\": \"AMAN TIWARI\", \"Location\": \"DTO,EAST SINGHBHUM,JAMSHEDPUR\", }\n",
    ",\n",
    "{ \"Number\": \"JH01R1869\",\"Description\": \"HYUNDAI SANTRO XING XK\", \"RegistrationYear\": \"2006\", \"CarMake\": { \"CurrentTextValue\": \"HYUNDAI\" }, \"CarModel\": { \"CurrentTextValue\": \"SANTRO XING XK\" }, \"Variant\": \"ERLX XK Non AC Petrol 1086.0\", \"EngineSize\": { \"CurrentTextValue\": \"1086.0\" }, \"MakeDescription\": { \"CurrentTextValue\": \"HYUNDAI\" }, \"ModelDescription\": { \"CurrentTextValue\": \"SANTRO XING XK\" }, \"NumberOfSeats\": { \"CurrentTextValue\": \"5\" }, \"VechileIdentificationNumber\": \"MALAA51HR6M001747L\", \"EngineNumber\": \"G4HG6M002245\", \"FuelType\": { \"CurrentTextValue\": \"PETROL\" }, \"RegistrationDate\": \"26/12/2006\", \"Owner\": \"GULZAR MANSURI\", \"Location\": \"DTO,RANCHI\", }\n",
    ",\n",
    "{ \"Number\": \"MH08AT3000\",\"Description\": \"ROYAL ENFIELD THUNDER BIRD 350\", \"RegistrationYear\": \"2018\", \"CarMake\": { \"CurrentTextValue\": \"ROYAL ENFIELD\" }, \"CarModel\": { \"CurrentTextValue\": \"THUNDER BIRD\" }, \"Variant\": \"350\", \"EngineSize\": { \"CurrentTextValue\": \"350\" }, \"MakeDescription\": { \"CurrentTextValue\": \"ROYAL ENFIELD\" }, \"ModelDescription\": { \"CurrentTextValue\": \"THUNDER BIRD\" }, \"NumberOfSeats\": { \"CurrentTextValue\": \"2\" }, \"VechileIdentificationNumber\": \"ME3U3S5C1JL388398\", \"EngineNumber\": \"U3S5C1JL865351\", \"FuelType\": { \"CurrentTextValue\": \"Petrol\" }, \"RegistrationDate\": \"16/11/2018\", \"Owner\": \"ASHOK KUMAR\", \"Location\": \"DY.RTO,RATNAGIRI\" }\n",
    ", \n",
    "{ \"Number\": \"MH20DV2366\",\"Description\": \"SKODA SUPERB 2.0 TDI L&K AUTOMATIC TRANSMISSION\", \"RegistrationYear\": \"2016\", \"CarMake\": { \"CurrentTextValue\": \"SKODA\" }, \"CarModel\": { \"CurrentTextValue\": \"SUPERB\" }, \"EngineSize\": { \"CurrentTextValue\": \"1968\" }, \"MakeDescription\": { \"CurrentTextValue\": \"SKODA\" }, \"ModelDescription\": { \"CurrentTextValue\": \"SUPERB\" }, \"VechileIdentificationNumber\": \"TMBBKJNP6FA310011\", \"NumberOfSeats\": { \"CurrentTextValue\": \"5\" }, \"Colour\": \"\", \"EngineNumber\": \"CRG000518\", \"FuelType\": { \"CurrentTextValue\": \"Diesel\" }, \"RegistrationDate\": \"24-FEB-16\",\"Owner\": \"CHARANJEET SINGH\", \"Location\": \"RTO,AURANGABAD\"}\n",
    "\n",
    "]"
   ]
  },
  {
   "cell_type": "code",
   "execution_count": 36,
   "metadata": {},
   "outputs": [],
   "source": [
    "@app.route('/')\n",
    "def index():\n",
    "    return render_template('page.html')\n"
   ]
  },
  {
   "cell_type": "markdown",
   "metadata": {},
   "source": [
    "Here, we must create the folder templates inside the application directory and save the HTML templates referenced in the flask script in that directory.\n",
    "\n",
    "In our case, the path of our script file FlaskAPI.py is E:\\Linux world\\Task\\Task8\\flask whereas the path of the HTML template is E:\\flask\\templates."
   ]
  },
  {
   "cell_type": "code",
   "execution_count": 37,
   "metadata": {},
   "outputs": [],
   "source": [
    "@app.route('/app/api/plates/all')\n",
    "def show():\n",
    "    return jsonify(plates)\n"
   ]
  },
  {
   "cell_type": "code",
   "execution_count": 38,
   "metadata": {},
   "outputs": [],
   "source": [
    "@app.route('/app/api/plates', methods = ['GET'])\n",
    "def num():\n",
    "    if 'Number' in request.args:\n",
    "        num = request.args['Number']\n",
    "    else:\n",
    "        return \"unknown request\"\n",
    "    \n",
    "    result = []\n",
    "\n",
    "    for plate in plates:\n",
    "        if plate['Number'] == num:\n",
    "            result.append(plate)\n",
    "    return jsonify(result)\n"
   ]
  },
  {
   "cell_type": "code",
   "execution_count": 39,
   "metadata": {},
   "outputs": [
    {
     "name": "stdout",
     "output_type": "stream",
     "text": [
      " * Serving Flask app \"__main__\" (lazy loading)\n",
      " * Environment: production\n",
      "   WARNING: This is a development server. Do not use it in a production deployment.\n",
      "   Use a production WSGI server instead.\n",
      " * Debug mode: on\n"
     ]
    },
    {
     "name": "stderr",
     "output_type": "stream",
     "text": [
      " * Running on http://127.0.0.1:5000/ (Press CTRL+C to quit)\n",
      "127.0.0.1 - - [03/Jul/2021 13:56:32] \"\u001b[37mGET / HTTP/1.1\u001b[0m\" 200 -\n",
      "127.0.0.1 - - [03/Jul/2021 13:56:32] \"\u001b[33mGET /kubernetes.css HTTP/1.1\u001b[0m\" 404 -\n",
      "127.0.0.1 - - [03/Jul/2021 13:56:32] \"\u001b[33mGET /api.js HTTP/1.1\u001b[0m\" 404 -\n",
      "127.0.0.1 - - [03/Jul/2021 13:56:32] \"\u001b[33mGET /kubernetes.gif HTTP/1.1\u001b[0m\" 404 -\n",
      "127.0.0.1 - - [03/Jul/2021 14:00:39] \"\u001b[37mGET /app/api/plates?Number=%22MH08AT3000%22 HTTP/1.1\u001b[0m\" 200 -\n",
      "127.0.0.1 - - [03/Jul/2021 14:00:58] \"\u001b[37mGET /app/api/plates?Number=JH05AM7544 HTTP/1.1\u001b[0m\" 200 -\n"
     ]
    }
   ],
   "source": [
    "if __name__ == '__main__':\n",
    "    app.run(debug=True, use_reloader=False)\n"
   ]
  },
  {
   "cell_type": "code",
   "execution_count": null,
   "metadata": {},
   "outputs": [],
   "source": []
  },
  {
   "cell_type": "code",
   "execution_count": null,
   "metadata": {},
   "outputs": [],
   "source": []
  },
  {
   "cell_type": "code",
   "execution_count": null,
   "metadata": {},
   "outputs": [],
   "source": []
  },
  {
   "cell_type": "code",
   "execution_count": null,
   "metadata": {},
   "outputs": [],
   "source": []
  }
 ],
 "metadata": {
  "kernelspec": {
   "display_name": "Python 3",
   "language": "python",
   "name": "python3"
  },
  "language_info": {
   "codemirror_mode": {
    "name": "ipython",
    "version": 3
   },
   "file_extension": ".py",
   "mimetype": "text/x-python",
   "name": "python",
   "nbconvert_exporter": "python",
   "pygments_lexer": "ipython3",
   "version": "3.8.3"
  }
 },
 "nbformat": 4,
 "nbformat_minor": 4
}
